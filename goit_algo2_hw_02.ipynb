{
  "cells": [
    {
      "cell_type": "markdown",
      "metadata": {
        "id": "bb8UHpRcnFQG"
      },
      "source": [
        "# ДЗ2: Основи аналізу та алгоритмічні стратегії (Теми 1–2)\n",
        "\n",
        "Цей ноутбук містить готове рішення двох завдань:\n",
        "1. **Min/Max** (Divide & Conquer) — функція `minmax_divide_and_conquer` повертає `(min, max)` за **O(n)**.\n",
        "2. **Оптимізація черги 3D-принтера** (Greedy) — функція `optimize_printing` з використанням `@dataclass`.\n"
      ],
      "id": "bb8UHpRcnFQG"
    },
    {
      "cell_type": "code",
      "execution_count": 1,
      "metadata": {
        "colab": {
          "base_uri": "https://localhost:8080/"
        },
        "id": "euudF6oOnFQL",
        "outputId": "0069bb6b-d5ed-47ee-dd1a-0bd2ad6332fa"
      },
      "outputs": [
        {
          "output_type": "stream",
          "name": "stdout",
          "text": [
            "Mounted at /content/drive\n"
          ]
        }
      ],
      "source": [
        "# Монтування Google Drive\n",
        "try:\n",
        "    from google.colab import drive\n",
        "    drive.mount('/content/drive')\n",
        "except Exception as e:\n",
        "    print('Google Colab не виявлено або Drive недоступний у цій середовищі.')\n"
      ],
      "id": "euudF6oOnFQL"
    },
    {
      "cell_type": "markdown",
      "metadata": {
        "id": "XfPeBi5ynFQN"
      },
      "source": [
        "## Завдання 1 — Min/Max (Divide & Conquer)"
      ],
      "id": "XfPeBi5ynFQN"
    },
    {
      "cell_type": "code",
      "execution_count": 2,
      "metadata": {
        "colab": {
          "base_uri": "https://localhost:8080/"
        },
        "id": "InjgAlPrnFQN",
        "outputId": "d8fe0434-9a8a-4197-d648-355e16804bbf"
      },
      "outputs": [
        {
          "output_type": "stream",
          "name": "stdout",
          "text": [
            "Min/Max: (-5, 15)\n"
          ]
        }
      ],
      "source": [
        "from typing import List, Tuple\n",
        "\n",
        "def minmax_divide_and_conquer(arr: List[float]) -> Tuple[float, float]:\n",
        "    \"\"\"Повертає (min, max) для масиву arr за допомогою підходу 'розділяй і володарюй'. O(n).\"\"\"\n",
        "    if not arr:\n",
        "        raise ValueError(\"Порожній масив недопустимий\")\n",
        "\n",
        "    def helper(lo: int, hi: int) -> Tuple[float, float]:\n",
        "        if lo == hi:\n",
        "            x = arr[lo]\n",
        "            return (x, x)\n",
        "        if hi == lo + 1:\n",
        "            a, b = arr[lo], arr[hi]\n",
        "            return (a, b) if a <= b else (b, a)\n",
        "        mid = (lo + hi) // 2\n",
        "        left_min, left_max = helper(lo, mid)\n",
        "        right_min, right_max = helper(mid + 1, hi)\n",
        "        return (left_min if left_min <= right_min else right_min,\n",
        "                left_max if left_max >= right_max else right_max)\n",
        "\n",
        "    return helper(0, len(arr) - 1)\n",
        "\n",
        "# Швидка перевірка\n",
        "arr = [7, -2, 15, 0, 9, -5, 3]\n",
        "print(\"Min/Max:\", minmax_divide_and_conquer(arr))  # Очікується (-5, 15)\n"
      ],
      "id": "InjgAlPrnFQN"
    },
    {
      "cell_type": "markdown",
      "metadata": {
        "id": "B09Day-MnFQO"
      },
      "source": [
        "## Завдання 2 — Оптимізація черги 3D-принтера (Greedy + dataclass)"
      ],
      "id": "B09Day-MnFQO"
    },
    {
      "cell_type": "code",
      "execution_count": 3,
      "metadata": {
        "id": "l3HrhNsJnFQO"
      },
      "outputs": [],
      "source": [
        "from typing import List, Dict\n",
        "from dataclasses import dataclass\n",
        "\n",
        "@dataclass\n",
        "class PrintJob:\n",
        "    id: str\n",
        "    volume: float\n",
        "    priority: int  # 1 = найвищий\n",
        "    print_time: int  # хвилини\n",
        "\n",
        "@dataclass\n",
        "class PrinterConstraints:\n",
        "    max_volume: float\n",
        "    max_items: int\n",
        "\n",
        "def optimize_printing(print_jobs: List[Dict], constraints: Dict) -> Dict:\n",
        "    cons = PrinterConstraints(**constraints)\n",
        "    if cons.max_items <= 0 or cons.max_volume <= 0:\n",
        "        raise ValueError(\"Обмеження принтера мають бути додатними.\")\n",
        "\n",
        "    jobs = [PrintJob(**j) for j in print_jobs]\n",
        "    for j in jobs:\n",
        "        if j.volume <= 0 or j.print_time <= 0 or j.priority not in (1, 2, 3):\n",
        "            raise ValueError(f\"Некоректні дані задачі: {j}\")\n",
        "        if j.volume > cons.max_volume:\n",
        "            raise ValueError(f\"Модель '{j.id}' має об'єм, що перевищує max_volume принтера.\")\n",
        "\n",
        "    # Стабільне сортування: 1→2→3, зі збереженням відносного порядку в межах пріоритету\n",
        "    jobs_with_index = list(enumerate(jobs))\n",
        "    jobs_with_index.sort(key=lambda p: (p[1].priority, p[0]))\n",
        "    remaining = [j for _, j in jobs_with_index]\n",
        "\n",
        "    print_order = []\n",
        "    total_time = 0\n",
        "\n",
        "    while remaining:\n",
        "        highest_prio = min(j.priority for j in remaining)\n",
        "\n",
        "        batch = []\n",
        "        used_items = 0\n",
        "        used_volume = 0.0\n",
        "\n",
        "        # 1) Спершу — задачі найвищого доступного пріоритету\n",
        "        i = 0\n",
        "        while i < len(remaining) and used_items < cons.max_items:\n",
        "            j = remaining[i]\n",
        "            if j.priority == highest_prio and j.volume + used_volume <= cons.max_volume:\n",
        "                batch.append(j)\n",
        "                used_items += 1\n",
        "                used_volume += j.volume\n",
        "                remaining.pop(i)\n",
        "            else:\n",
        "                i += 1\n",
        "\n",
        "        # 2) Добиваємо батч нижчими пріоритетами (2, потім 3), якщо є місткість\n",
        "        if used_items < cons.max_items and used_volume < cons.max_volume and remaining:\n",
        "            for pr in (2, 3):\n",
        "                if pr < highest_prio:\n",
        "                    continue\n",
        "                i = 0\n",
        "                while i < len(remaining) and used_items < cons.max_items:\n",
        "                    j = remaining[i]\n",
        "                    if j.priority == pr and j.volume + used_volume <= cons.max_volume:\n",
        "                        batch.append(j)\n",
        "                        used_items += 1\n",
        "                        used_volume += j.volume\n",
        "                        remaining.pop(i)\n",
        "                    else:\n",
        "                        i += 1\n",
        "\n",
        "        batch_time = max(job.print_time for job in batch)\n",
        "        total_time += batch_time\n",
        "        print_order.extend([job.id for job in batch])\n",
        "\n",
        "    return {\"print_order\": print_order, \"total_time\": total_time}\n"
      ],
      "id": "l3HrhNsJnFQO"
    },
    {
      "cell_type": "markdown",
      "metadata": {
        "id": "SQuXmR2BnFQO"
      },
      "source": [
        "## Тести з умови"
      ],
      "id": "SQuXmR2BnFQO"
    },
    {
      "cell_type": "code",
      "execution_count": 4,
      "metadata": {
        "colab": {
          "base_uri": "https://localhost:8080/"
        },
        "id": "fJVbD6benFQP",
        "outputId": "5de0f193-489a-4fe1-bda9-a606ef0807f1"
      },
      "outputs": [
        {
          "output_type": "stream",
          "name": "stdout",
          "text": [
            "Тест 1 (однаковий пріоритет):\n",
            "Порядок друку: ['M1', 'M2', 'M3']\n",
            "Загальний час: 270 хвилин\n",
            "\n",
            "Тест 2 (різні пріоритети):\n",
            "Порядок друку: ['M2', 'M1', 'M3']\n",
            "Загальний час: 270 хвилин\n",
            "\n",
            "Тест 3 (перевищення обмежень):\n",
            "Порядок друку: ['M1', 'M2', 'M3']\n",
            "Загальний час: 450 хвилин\n"
          ]
        }
      ],
      "source": [
        "def test_printing_optimization():\n",
        "    # Тест 1: Однаковий пріоритет\n",
        "    test1_jobs = [\n",
        "        {\"id\": \"M1\", \"volume\": 100, \"priority\": 1, \"print_time\": 120},\n",
        "        {\"id\": \"M2\", \"volume\": 150, \"priority\": 1, \"print_time\": 90},\n",
        "        {\"id\": \"M3\", \"volume\": 120, \"priority\": 1, \"print_time\": 150}\n",
        "    ]\n",
        "\n",
        "    # Тест 2: Різні пріоритети\n",
        "    test2_jobs = [\n",
        "        {\"id\": \"M1\", \"volume\": 100, \"priority\": 2, \"print_time\": 120},  # лабораторна\n",
        "        {\"id\": \"M2\", \"volume\": 150, \"priority\": 1, \"print_time\": 90},   # дипломна\n",
        "        {\"id\": \"M3\", \"volume\": 120, \"priority\": 3, \"print_time\": 150}   # особистий проєкт\n",
        "    ]\n",
        "\n",
        "    # Тест 3: Перевищення обмежень (на групу)\n",
        "    test3_jobs = [\n",
        "        {\"id\": \"M1\", \"volume\": 250, \"priority\": 1, \"print_time\": 180},\n",
        "        {\"id\": \"M2\", \"volume\": 200, \"priority\": 1, \"print_time\": 150},\n",
        "        {\"id\": \"M3\", \"volume\": 180, \"priority\": 2, \"print_time\": 120}\n",
        "    ]\n",
        "\n",
        "    constraints = {\"max_volume\": 300, \"max_items\": 2}\n",
        "\n",
        "    print(\"Тест 1 (однаковий пріоритет):\")\n",
        "    result1 = optimize_printing(test1_jobs, constraints)\n",
        "    print(f\"Порядок друку: {result1['print_order']}\")\n",
        "    print(f\"Загальний час: {result1['total_time']} хвилин\")\n",
        "\n",
        "    print(\"\\nТест 2 (різні пріоритети):\")\n",
        "    result2 = optimize_printing(test2_jobs, constraints)\n",
        "    print(f\"Порядок друку: {result2['print_order']}\")\n",
        "    print(f\"Загальний час: {result2['total_time']} хвилин\")\n",
        "\n",
        "    print(\"\\nТест 3 (перевищення обмежень):\")\n",
        "    result3 = optimize_printing(test3_jobs, constraints)\n",
        "    print(f\"Порядок друку: {result3['print_order']}\")\n",
        "    print(f\"Загальний час: {result3['total_time']} хвилин\")\n",
        "\n",
        "# Запуск тестів\n",
        "test_printing_optimization()\n"
      ],
      "id": "fJVbD6benFQP"
    }
  ],
  "metadata": {
    "colab": {
      "provenance": []
    },
    "kernelspec": {
      "display_name": "Python 3",
      "language": "python",
      "name": "python3"
    },
    "language_info": {
      "name": "python",
      "version": "3.x"
    }
  },
  "nbformat": 4,
  "nbformat_minor": 5
}